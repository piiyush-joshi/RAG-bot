{
 "cells": [
  {
   "cell_type": "code",
   "execution_count": 2,
   "metadata": {},
   "outputs": [],
   "source": [
    "import os\n",
    "from dotenv import load_dotenv\n",
    "load_dotenv()\n",
    "\n",
    "os.environ[\"OPENAI_API_KEY\"]=os.getenv(\"OPENAI_API_KEY\")\n",
    "#Langsmith tracking\n",
    "os.environ[\"LANGCHAIN_API_KEY\"]=os.getenv(\"LANGCHAIN_API_KEY\")\n",
    "os.environ[\"LANGCHAIN_TRACING_V2\"]=\"true\"\n",
    "os.environ[\"LANGCHAIN_PROJECT\"]=os.getenv(\"LANGCHAIN_PROJECT\")"
   ]
  },
  {
   "cell_type": "code",
   "execution_count": 4,
   "metadata": {},
   "outputs": [],
   "source": [
    "from langchain_openai import ChatOpenAI\n",
    "\n",
    "llm = ChatOpenAI(model=\"gpt-4o\", temperature=0.4)"
   ]
  },
  {
   "cell_type": "code",
   "execution_count": 5,
   "metadata": {},
   "outputs": [
    {
     "name": "stdout",
     "output_type": "stream",
     "text": [
      "client=<openai.resources.chat.completions.Completions object at 0x0000022C87C0F190> async_client=<openai.resources.chat.completions.AsyncCompletions object at 0x0000022C87C3C850> model_name='gpt-4o' temperature=0.4 openai_api_key=SecretStr('**********') openai_proxy=''\n"
     ]
    }
   ],
   "source": [
    "print(llm)"
   ]
  },
  {
   "cell_type": "code",
   "execution_count": 7,
   "metadata": {},
   "outputs": [],
   "source": [
    "##input and response \n",
    "\n",
    "result = llm.invoke(\"What is gen ai ?\")"
   ]
  },
  {
   "cell_type": "code",
   "execution_count": 10,
   "metadata": {},
   "outputs": [
    {
     "name": "stdout",
     "output_type": "stream",
     "text": [
      "Generative AI, often abbreviated as Gen AI, refers to a subset of artificial intelligence technologies that are designed to generate new content. This can include text, images, music, and even complex data structures. Unlike traditional AI, which typically focuses on recognizing patterns and making decisions based on existing data, generative AI creates new data that mimics the properties of the data it was trained on.\n",
      "\n",
      "### Key Components and Technologies\n",
      "\n",
      "1. **Neural Networks:** Generative AI often relies on advanced neural networks, particularly deep learning models, to understand and generate content.\n",
      "   \n",
      "2. **Generative Adversarial Networks (GANs):** GANs consist of two neural networks, a generator and a discriminator, that work together to produce realistic data. The generator creates data, while the discriminator evaluates it for authenticity.\n",
      "\n",
      "3. **Variational Autoencoders (VAEs):** VAEs are another type of generative model that learns to encode data into a latent space and then decode it back into the original data format, allowing for new data generation.\n",
      "\n",
      "4. **Transformer Models:** Models like GPT-3 (Generative Pre-trained Transformer 3) are based on transformer architecture and are particularly effective at generating human-like text.\n",
      "\n",
      "### Applications\n",
      "\n",
      "1. **Text Generation:** Generative AI can write articles, create chatbots, and even generate code. For example, OpenAI's GPT-3 can produce coherent and contextually relevant text based on a given prompt.\n",
      "\n",
      "2. **Image and Video Creation:** Tools like DALL-E and StyleGAN can generate high-quality images and videos from textual descriptions or other input data.\n",
      "\n",
      "3. **Music and Audio:** AI models can compose music, generate sound effects, and even create realistic human speech.\n",
      "\n",
      "4. **Data Augmentation:** In machine learning, generative models can create synthetic data to augment training datasets, improving the performance of other AI models.\n",
      "\n",
      "5. **Healthcare:** Generative AI can assist in drug discovery by generating potential molecular structures for new medications.\n",
      "\n",
      "### Ethical Considerations\n",
      "\n",
      "While generative AI offers numerous benefits, it also raises ethical concerns:\n",
      "\n",
      "1. **Misinformation:** The ability to generate realistic fake news, deepfakes, and other misleading content.\n",
      "   \n",
      "2. **Intellectual Property:** Issues related to the ownership of AI-generated content.\n",
      "\n",
      "3. **Bias and Fairness:** Generative models can perpetuate and even amplify existing biases in the data they are trained on.\n",
      "\n",
      "4. **Security:** Potential misuse in cyber-attacks, such as generating phishing emails or malicious code.\n",
      "\n",
      "### Conclusion\n",
      "\n",
      "Generative AI is a powerful and rapidly evolving field that holds great promise for various industries. However, it also comes with significant ethical and practical challenges that need to be carefully managed.\n"
     ]
    }
   ],
   "source": [
    "print(result.content)"
   ]
  },
  {
   "cell_type": "code",
   "execution_count": 19,
   "metadata": {},
   "outputs": [
    {
     "data": {
      "text/plain": [
       "ChatPromptTemplate(input_variables=['input'], messages=[SystemMessagePromptTemplate(prompt=PromptTemplate(input_variables=[], template='You are an expert AI Engineer, provide me answer based on the question.')), HumanMessagePromptTemplate(prompt=PromptTemplate(input_variables=['input'], template='{input}'))])"
      ]
     },
     "execution_count": 19,
     "metadata": {},
     "output_type": "execute_result"
    }
   ],
   "source": [
    "from langchain_core.prompts import ChatPromptTemplate \n",
    "\n",
    "prompt = ChatPromptTemplate.from_messages(\n",
    "    [\n",
    "        (\"system\",\"You are an expert AI Engineer, provide me answer based on the question.\"),\n",
    "        (\"user\", \"{input}\"),\n",
    "    ]\n",
    ")\n",
    "\n",
    "prompt"
   ]
  },
  {
   "cell_type": "code",
   "execution_count": 15,
   "metadata": {},
   "outputs": [
    {
     "name": "stdout",
     "output_type": "stream",
     "text": [
      "```json\n",
      "{\n",
      "  \"description\": \"Langsmith is a tool or platform designed to assist in the development and management of language models and AI applications.\"\n",
      "}\n",
      "```\n"
     ]
    }
   ],
   "source": [
    "chain = prompt|llm \n",
    "\n",
    "response = chain.invoke({\"input\": \"What is langsmith, can you tell me in 20 words please\"})\n",
    "print(response.content)"
   ]
  },
  {
   "cell_type": "code",
   "execution_count": 13,
   "metadata": {},
   "outputs": [
    {
     "data": {
      "text/plain": [
       "langchain_core.messages.ai.AIMessage"
      ]
     },
     "execution_count": 13,
     "metadata": {},
     "output_type": "execute_result"
    }
   ],
   "source": [
    "type(response)"
   ]
  },
  {
   "cell_type": "code",
   "execution_count": 21,
   "metadata": {},
   "outputs": [],
   "source": [
    "##default is our str output parser\n",
    "\n",
    "from langchain_core.output_parsers import StrOutputParser\n",
    "output = StrOutputParser()\n",
    "\n",
    "chain = prompt | llm | output"
   ]
  },
  {
   "cell_type": "code",
   "execution_count": 22,
   "metadata": {},
   "outputs": [
    {
     "name": "stdout",
     "output_type": "stream",
     "text": [
      "Langsmith is a tool or platform designed to facilitate the development, testing, and deployment of language models and natural language processing applications.\n"
     ]
    }
   ],
   "source": [
    "response = chain.invoke({\"input\": \"What is langsmith, can you tell me in 20 words please\"})\n",
    "print(response)"
   ]
  },
  {
   "cell_type": "code",
   "execution_count": null,
   "metadata": {},
   "outputs": [],
   "source": []
  }
 ],
 "metadata": {
  "kernelspec": {
   "display_name": "Python 3",
   "language": "python",
   "name": "python3"
  },
  "language_info": {
   "codemirror_mode": {
    "name": "ipython",
    "version": 3
   },
   "file_extension": ".py",
   "mimetype": "text/x-python",
   "name": "python",
   "nbconvert_exporter": "python",
   "pygments_lexer": "ipython3",
   "version": "3.10.0"
  }
 },
 "nbformat": 4,
 "nbformat_minor": 2
}
